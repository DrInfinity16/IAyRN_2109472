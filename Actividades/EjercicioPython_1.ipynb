{
  "nbformat": 4,
  "nbformat_minor": 0,
  "metadata": {
    "colab": {
      "provenance": []
    },
    "kernelspec": {
      "name": "python3",
      "display_name": "Python 3"
    },
    "language_info": {
      "name": "python"
    }
  },
  "cells": [
    {
      "cell_type": "markdown",
      "source": [
        "\n",
        "Actividad 2: Diseño de algoritmos en Python\n",
        "\n",
        "Nombre: Angel Arturo Ramirez Molano\n",
        "\n",
        "Matricula: 2109472\n",
        "\n",
        "Hora clase: N1"
      ],
      "metadata": {
        "id": "HL2zhi45xzYt"
      }
    },
    {
      "cell_type": "code",
      "execution_count": null,
      "metadata": {
        "colab": {
          "base_uri": "https://localhost:8080/"
        },
        "id": "dzF5B8QRhNfF",
        "outputId": "bbf3ee15-8b73-4f24-8665-7a118b49d247"
      },
      "outputs": [
        {
          "output_type": "stream",
          "name": "stdout",
          "text": [
            "Cual es tu nombre?: Ana\n",
            "\n"
          ]
        }
      ],
      "source": [
        "#1\n",
        "nombre = input(\"Cual es tu nombre?: \").lower()\n",
        "\n",
        "if nombre not in ['ana','juan','pedro']:\n",
        "    print(\"Hola,\", nombre)\n",
        "else:\n",
        "    print(\"\")"
      ]
    },
    {
      "cell_type": "code",
      "source": [
        "#2\n",
        "def listain():\n",
        "    cos = []\n",
        "    elem = int(input(\"Cuantos elementos seran?: \"))\n",
        "    for i in range(elem):\n",
        "        cosas = input(\"Ingresa el dato: \")\n",
        "        cos.append(cosas)\n",
        "\n",
        "    cos.reverse()\n",
        "\n",
        "    for cosas in cos:\n",
        "        print(cosas)\n",
        "\n",
        "listain()"
      ],
      "metadata": {
        "colab": {
          "base_uri": "https://localhost:8080/"
        },
        "id": "67JmFRE_mUcN",
        "outputId": "c748e586-cbd3-4ef2-8376-6d82ba8dbbae"
      },
      "execution_count": null,
      "outputs": [
        {
          "output_type": "stream",
          "name": "stdout",
          "text": [
            "Cuantos elementos seran?: 3\n",
            "Ingresa el dato: Azul\n",
            "Ingresa el dato: Verde\n",
            "Ingresa el dato: Amarillo\n",
            "Amarillo\n",
            "Verde\n",
            "Azul\n"
          ]
        }
      ]
    },
    {
      "cell_type": "code",
      "source": [
        "#3\n",
        "def fibo(nfibo):\n",
        "    nacci = [0,1]\n",
        "    for i in range(2, nfibo):\n",
        "        nacci.append(nacci[i-1]+nacci[i-2])\n",
        "    return nacci\n",
        "\n",
        "def main():\n",
        "    print(\"Este programa imprime numeros de la serie de fibonacci\")\n",
        "    nfibo = int(input(\"Cuantos numeros de la serie quieres?: \"))\n",
        "    serie_fibo = fibo(nfibo)\n",
        "\n",
        "    print(\"Serie: \")\n",
        "    for num in serie_fibo:\n",
        "        print(num, end=\" \")\n",
        "\n",
        "\n",
        "main()"
      ],
      "metadata": {
        "colab": {
          "base_uri": "https://localhost:8080/"
        },
        "id": "M4OWB-JUo1C2",
        "outputId": "6bdef243-b4ca-48d3-9e19-9d4e05c71ac8"
      },
      "execution_count": null,
      "outputs": [
        {
          "output_type": "stream",
          "name": "stdout",
          "text": [
            "Este programa imprime numeros de la serie de fibonacci\n",
            "Cuantos numeros de la serie quieres?: 10\n",
            "Serie: \n",
            "0 1 1 2 3 5 8 13 21 34 "
          ]
        }
      ]
    },
    {
      "cell_type": "code",
      "source": [
        "#4\n",
        "import random\n",
        "\n",
        "def azar():\n",
        "    maquina = random.randint(1, 100)\n",
        "    intentos = 0\n",
        "\n",
        "    print(\"Estoy pensando en un número entre 1 y 100.\")\n",
        "\n",
        "    while (1):\n",
        "        j1 = int(input(\"¿Cuál es tu adivinanza? \"))\n",
        "\n",
        "        intentos += 1\n",
        "\n",
        "        if j1 < maquina:\n",
        "            print(\"El número que estoy pensando es mayor que\", j1)\n",
        "        elif j1 > maquina:\n",
        "            print(\"El número que estoy pensando es menor que\", j1)\n",
        "        else:\n",
        "            print(\"Has ganado, te ha tomado solo\", intentos, \"intentos.\")\n",
        "            break\n",
        "\n",
        "azar()\n"
      ],
      "metadata": {
        "colab": {
          "base_uri": "https://localhost:8080/"
        },
        "id": "OmHxq13issRy",
        "outputId": "cc5203fc-882c-4fdc-c40b-8f5ea5718b90"
      },
      "execution_count": 22,
      "outputs": [
        {
          "output_type": "stream",
          "name": "stdout",
          "text": [
            "Estoy pensando en un número entre 1 y 100.\n",
            "¿Cuál es tu adivinanza? 5\n",
            "El número que estoy pensando es mayor que 5\n",
            "¿Cuál es tu adivinanza? 10\n",
            "El número que estoy pensando es mayor que 10\n",
            "¿Cuál es tu adivinanza? 40\n",
            "El número que estoy pensando es mayor que 40\n",
            "¿Cuál es tu adivinanza? 60\n",
            "El número que estoy pensando es mayor que 60\n",
            "¿Cuál es tu adivinanza? 80\n",
            "El número que estoy pensando es mayor que 80\n",
            "¿Cuál es tu adivinanza? 90\n",
            "El número que estoy pensando es menor que 90\n",
            "¿Cuál es tu adivinanza? 85\n",
            "El número que estoy pensando es mayor que 85\n",
            "¿Cuál es tu adivinanza? 87\n",
            "El número que estoy pensando es menor que 87\n",
            "¿Cuál es tu adivinanza? 86\n",
            "Has ganado, te ha tomado solo 9 intentos.\n"
          ]
        }
      ]
    },
    {
      "cell_type": "code",
      "source": [
        "#5\n",
        "def es_primo(numero):\n",
        "    if numero <= 1:\n",
        "        return False\n",
        "    for i in range(2, int(numero ** 0.5) + 1):\n",
        "        if numero % i == 0:\n",
        "            return False\n",
        "    return True\n",
        "\n",
        "def nprimo(inicio, fin):\n",
        "    primos = []\n",
        "    for numero in range(inicio, fin + 1):\n",
        "        if es_primo(numero):\n",
        "            primos.append(numero)\n",
        "    return primos\n",
        "\n",
        "inicio = int(input(\"Ingrese el inicio del rango: \"))\n",
        "fin = int(input(\"Ingrese el final del rango: \"))\n",
        "\n",
        "print(\"Números primos en el rango de\", inicio, \"a\", fin, \":\")\n",
        "print(nprimo(inicio, fin))\n"
      ],
      "metadata": {
        "colab": {
          "base_uri": "https://localhost:8080/"
        },
        "id": "fzPl0KimDpSS",
        "outputId": "f7e3ff40-7b0e-44c8-b47d-0a008428d505"
      },
      "execution_count": 21,
      "outputs": [
        {
          "output_type": "stream",
          "name": "stdout",
          "text": [
            "Ingrese el inicio del rango: 2\n",
            "Ingrese el final del rango: 10\n",
            "Números primos en el rango de 2 a 10 :\n",
            "[2, 3, 5, 7]\n"
          ]
        }
      ]
    },
    {
      "cell_type": "code",
      "source": [
        "#6\n",
        "def suma(a, b):\n",
        "    return a + b\n",
        "\n",
        "def resta(a, b):\n",
        "    return a - b\n",
        "\n",
        "def multi(a, b):\n",
        "    return a * b\n",
        "\n",
        "def divi(a, b):\n",
        "    if b == 0:\n",
        "        return \"Error: No se puede dividir por cero\"\n",
        "    else:\n",
        "        return a / b\n",
        "\n",
        "def checknum(texto):\n",
        "    while(1):\n",
        "        try:\n",
        "            num = float(input(texto))\n",
        "            return num\n",
        "        except ValueError:\n",
        "            print(\"Error, ingresa un numero\")\n",
        "def main():\n",
        "\n",
        "    print(\"Este es un programa que puede realizar: \")\n",
        "    print(\"Suma, resta, multiplicacion y division entre dos numeros\")\n",
        "    num1 = checknum(\"Ingrese el primer número: \")\n",
        "    num2 = checknum(\"Ingrese el segundo número: \")\n",
        "\n",
        "    print(\"1. Suma\")\n",
        "    print(\"2. Resta\")\n",
        "    print(\"3. Multiplicación\")\n",
        "    print(\"4. División\")\n",
        "\n",
        "    while(1):\n",
        "      opcion = int(input(\"Seleccione una operación: \"))\n",
        "\n",
        "      if opcion not in [1,2,3,4]:\n",
        "        print(\"Por favor, selecciona una opción válida\")\n",
        "      else:\n",
        "          break\n",
        "\n",
        "    if opcion == 1:\n",
        "        resultado = suma(num1, num2)\n",
        "    elif opcion == 2:\n",
        "        resultado = resta(num1, num2)\n",
        "    elif opcion == 3:\n",
        "        resultado = multi(num1, num2)\n",
        "    elif opcion == 4:\n",
        "        resultado = divi(num1, num2)\n",
        "\n",
        "    print(\"El resultado es:\", resultado)\n",
        "\n",
        "main()\n"
      ],
      "metadata": {
        "colab": {
          "base_uri": "https://localhost:8080/"
        },
        "id": "lzJwO5JdPWgu",
        "outputId": "86973ed6-9be5-44c8-d994-fc6aef544d89"
      },
      "execution_count": 24,
      "outputs": [
        {
          "output_type": "stream",
          "name": "stdout",
          "text": [
            "Este es un programa que puede realizar: \n",
            "Suma, resta, multiplicacion y division entre dos numeros\n",
            "Ingrese el primer número: 80\n",
            "Ingrese el segundo número: g\n",
            "Error, ingresa un numero\n",
            "Ingrese el segundo número: 2\n",
            "1. Suma\n",
            "2. Resta\n",
            "3. Multiplicación\n",
            "4. División\n",
            "Seleccione una operación: 9\n",
            "Por favor, selecciona una opción válida\n",
            "Seleccione una operación: 4\n",
            "El resultado es: 40.0\n"
          ]
        }
      ]
    }
  ]
}